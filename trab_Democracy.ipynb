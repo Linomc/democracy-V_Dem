{
  "cells": [
    {
      "cell_type": "markdown",
      "metadata": {
        "id": "view-in-github",
        "colab_type": "text"
      },
      "source": [
        "<a href=\"https://colab.research.google.com/github/Linomc/democracy-V_Dem/blob/main/trab_Democracy.ipynb\" target=\"_parent\"><img src=\"https://colab.research.google.com/assets/colab-badge.svg\" alt=\"Open In Colab\"/></a>"
      ]
    },
    {
      "cell_type": "markdown",
      "id": "c681dc20-a794-4f1d-be4e-6a3a89919c85",
      "metadata": {
        "id": "c681dc20-a794-4f1d-be4e-6a3a89919c85"
      },
      "source": [
        "## Utilizando a Biblioteca MINISOM"
      ]
    },
    {
      "cell_type": "markdown",
      "source": [
        "## A biblioteca Minisom é um biblioteca de mapas auto organizáveis e é um modelo não supervisionado.\n",
        "\n",
        "[Minisom](https://pypi.org/project/MiniSom/)"
      ],
      "metadata": {
        "id": "ZkhKXNvo3mOz"
      },
      "id": "ZkhKXNvo3mOz"
    },
    {
      "cell_type": "code",
      "execution_count": 1,
      "id": "9c48b4c4-0a8c-409e-87e8-2e7197c9251e",
      "metadata": {
        "colab": {
          "base_uri": "https://localhost:8080/"
        },
        "id": "9c48b4c4-0a8c-409e-87e8-2e7197c9251e",
        "outputId": "63459400-0464-4715-efd3-41dfc49ef214"
      },
      "outputs": [
        {
          "output_type": "stream",
          "name": "stdout",
          "text": [
            "Collecting minisom\n",
            "  Downloading MiniSom-2.3.1.tar.gz (10 kB)\n",
            "  Preparing metadata (setup.py) ... \u001b[?25l\u001b[?25hdone\n",
            "Building wheels for collected packages: minisom\n",
            "  Building wheel for minisom (setup.py) ... \u001b[?25l\u001b[?25hdone\n",
            "  Created wheel for minisom: filename=MiniSom-2.3.1-py3-none-any.whl size=10589 sha256=32aac96ea9d6b389e84766f0ec0c0f2e722c2a0030b9bc0adaee85b0526ce116\n",
            "  Stored in directory: /root/.cache/pip/wheels/c7/92/d2/33bbda5f86fd8830510b16aa98c8dd420129b5cb24248fd6db\n",
            "Successfully built minisom\n",
            "Installing collected packages: minisom\n",
            "Successfully installed minisom-2.3.1\n"
          ]
        }
      ],
      "source": [
        "!pip install minisom"
      ]
    },
    {
      "cell_type": "code",
      "execution_count": 2,
      "id": "722c6e73-576c-4fd9-ae6a-c4ee4a9b2dda",
      "metadata": {
        "colab": {
          "base_uri": "https://localhost:8080/"
        },
        "id": "722c6e73-576c-4fd9-ae6a-c4ee4a9b2dda",
        "outputId": "0f8da29f-1c03-493b-d13b-268963e1afb6"
      },
      "outputs": [
        {
          "output_type": "stream",
          "name": "stdout",
          "text": [
            "Requirement already satisfied: scikit-learn in /usr/local/lib/python3.10/dist-packages (1.2.2)\n",
            "Collecting scikit-learn\n",
            "  Downloading scikit_learn-1.3.2-cp310-cp310-manylinux_2_17_x86_64.manylinux2014_x86_64.whl (10.8 MB)\n",
            "\u001b[2K     \u001b[90m━━━━━━━━━━━━━━━━━━━━━━━━━━━━━━━━━━━━━━━━\u001b[0m \u001b[32m10.8/10.8 MB\u001b[0m \u001b[31m46.2 MB/s\u001b[0m eta \u001b[36m0:00:00\u001b[0m\n",
            "\u001b[?25hRequirement already satisfied: numpy<2.0,>=1.17.3 in /usr/local/lib/python3.10/dist-packages (from scikit-learn) (1.23.5)\n",
            "Requirement already satisfied: scipy>=1.5.0 in /usr/local/lib/python3.10/dist-packages (from scikit-learn) (1.11.4)\n",
            "Requirement already satisfied: joblib>=1.1.1 in /usr/local/lib/python3.10/dist-packages (from scikit-learn) (1.3.2)\n",
            "Requirement already satisfied: threadpoolctl>=2.0.0 in /usr/local/lib/python3.10/dist-packages (from scikit-learn) (3.2.0)\n",
            "Installing collected packages: scikit-learn\n",
            "  Attempting uninstall: scikit-learn\n",
            "    Found existing installation: scikit-learn 1.2.2\n",
            "    Uninstalling scikit-learn-1.2.2:\n",
            "      Successfully uninstalled scikit-learn-1.2.2\n",
            "Successfully installed scikit-learn-1.3.2\n",
            "Requirement already satisfied: scikit-learn in /usr/local/lib/python3.10/dist-packages (1.3.2)\n",
            "Requirement already satisfied: numpy<2.0,>=1.17.3 in /usr/local/lib/python3.10/dist-packages (from scikit-learn) (1.23.5)\n",
            "Requirement already satisfied: scipy>=1.5.0 in /usr/local/lib/python3.10/dist-packages (from scikit-learn) (1.11.4)\n",
            "Requirement already satisfied: joblib>=1.1.1 in /usr/local/lib/python3.10/dist-packages (from scikit-learn) (1.3.2)\n",
            "Requirement already satisfied: threadpoolctl>=2.0.0 in /usr/local/lib/python3.10/dist-packages (from scikit-learn) (3.2.0)\n"
          ]
        }
      ],
      "source": [
        "!pip install -U scikit-learn\n",
        "!pip install scikit-learn"
      ]
    },
    {
      "cell_type": "markdown",
      "id": "9068ce43-e0bd-4c97-a5d4-950b4876478e",
      "metadata": {
        "id": "9068ce43-e0bd-4c97-a5d4-950b4876478e"
      },
      "source": [
        "## Instalando Bibliotecas que são necessárias a partir dos erros ao executar as células"
      ]
    },
    {
      "cell_type": "code",
      "execution_count": 3,
      "id": "6ebb1c65-76f2-4c2e-bafe-21470965d4e0",
      "metadata": {
        "colab": {
          "base_uri": "https://localhost:8080/"
        },
        "id": "6ebb1c65-76f2-4c2e-bafe-21470965d4e0",
        "outputId": "174f9d68-992d-415e-e104-cb6ed3358b47"
      },
      "outputs": [
        {
          "output_type": "stream",
          "name": "stdout",
          "text": [
            "Requirement already satisfied: lxml in /usr/local/lib/python3.10/dist-packages (4.9.3)\n",
            "Requirement already satisfied: html5lib in /usr/local/lib/python3.10/dist-packages (1.1)\n",
            "Requirement already satisfied: six>=1.9 in /usr/local/lib/python3.10/dist-packages (from html5lib) (1.16.0)\n",
            "Requirement already satisfied: webencodings in /usr/local/lib/python3.10/dist-packages (from html5lib) (0.5.1)\n"
          ]
        }
      ],
      "source": [
        "!pip install lxml\n",
        "!pip install html5lib"
      ]
    },
    {
      "cell_type": "code",
      "execution_count": 4,
      "id": "0c53122e-2b4d-417b-9b15-5c35587ccb71",
      "metadata": {
        "id": "0c53122e-2b4d-417b-9b15-5c35587ccb71"
      },
      "outputs": [],
      "source": [
        "import numpy as np\n",
        "import pandas as pd\n",
        "import matplotlib.pyplot as plt\n",
        "from matplotlib.patches import Patch\n",
        "%matplotlib inline\n",
        "# carregando a biblioteca MiniSom\n",
        "from minisom import MiniSom\n",
        "from sklearn.preprocessing import minmax_scale, scale"
      ]
    },
    {
      "cell_type": "code",
      "execution_count": 5,
      "id": "23d4df2e-7ae6-4d7e-8d44-32e887bb6c15",
      "metadata": {
        "id": "23d4df2e-7ae6-4d7e-8d44-32e887bb6c15"
      },
      "outputs": [],
      "source": [
        "# Carregando a base de dados - Democracy\n",
        "import os.path\n",
        "if not os.path.isfile('democracy_index.csv'):\n",
        "    wiki = pd.read_html('https://en.wikipedia.org/wiki/V-Dem_Democracy_Indices',\n",
        "                        attrs={'class':'sortable'},\n",
        "                        header=0,\n",
        "                       )\n",
        "    wiki_index = wiki[0]"
      ]
    },
    {
      "cell_type": "code",
      "execution_count": 6,
      "id": "5a754687-5059-4a93-ac2d-eb169f97e01b",
      "metadata": {
        "colab": {
          "base_uri": "https://localhost:8080/"
        },
        "id": "5a754687-5059-4a93-ac2d-eb169f97e01b",
        "outputId": "eb6dc821-5614-43dd-f9ca-2f6d84ebfc0e"
      },
      "outputs": [
        {
          "output_type": "stream",
          "name": "stdout",
          "text": [
            "['Country', 'Electoral Democracy', 'Liberal Democracy', 'Participatory Democracy', 'Deliberative Democracy', 'Egalitarian Democracy']\n",
            "['country', 'electoral_democracy', 'liberal_democracy', 'participatory_democracy', 'deliberative_democracy', 'egalitarian_democracy']\n"
          ]
        }
      ],
      "source": [
        "print(list(wiki_index.columns))\n",
        "wiki_index.columns = [coluna.lower().replace(' ','_') for coluna in wiki_index.columns]\n",
        "print (list(wiki_index.columns))"
      ]
    },
    {
      "cell_type": "code",
      "execution_count": 8,
      "id": "b49824ab-a17b-4aa5-953a-2f0049137736",
      "metadata": {
        "id": "b49824ab-a17b-4aa5-953a-2f0049137736"
      },
      "outputs": [],
      "source": [
        "wiki_index.rename(columns={\n",
        "    'country':'pais',\n",
        "    'electoral_democracy':'eleicoes',\n",
        "    'liberal_democracy':'democracia_liberal',\n",
        "    'participatory_democracy':'participacao_democratica',\n",
        "    'deliberative_democracy':'democracia_deliberativa',\n",
        "    'egalitarian_democracy':'igualdade',\n",
        "}, inplace=True)"
      ]
    },
    {
      "cell_type": "code",
      "execution_count": 9,
      "id": "8747a0a3-3568-4e72-977e-2308050a8586",
      "metadata": {
        "colab": {
          "base_uri": "https://localhost:8080/",
          "height": 206
        },
        "id": "8747a0a3-3568-4e72-977e-2308050a8586",
        "outputId": "246828f9-f698-4865-cc71-ac7bc0b92dac"
      },
      "outputs": [
        {
          "output_type": "execute_result",
          "data": {
            "text/plain": [
              "             pais  eleicoes  democracia_liberal  participacao_democratica  \\\n",
              "174   North Korea     0.087               0.010                     0.045   \n",
              "175   Afghanistan     0.082               0.028                     0.019   \n",
              "176         China     0.075               0.040                     0.042   \n",
              "177       Eritrea     0.073               0.012                     0.011   \n",
              "178  Saudi Arabia     0.016               0.043                     0.026   \n",
              "\n",
              "     democracia_deliberativa  igualdade  \n",
              "174                    0.011      0.084  \n",
              "175                    0.025      0.019  \n",
              "176                    0.079      0.088  \n",
              "177                    0.033      0.124  \n",
              "178                    0.060      0.109  "
            ],
            "text/html": [
              "\n",
              "  <div id=\"df-07893e76-834d-4c6e-9ea7-b71f4a58a565\" class=\"colab-df-container\">\n",
              "    <div>\n",
              "<style scoped>\n",
              "    .dataframe tbody tr th:only-of-type {\n",
              "        vertical-align: middle;\n",
              "    }\n",
              "\n",
              "    .dataframe tbody tr th {\n",
              "        vertical-align: top;\n",
              "    }\n",
              "\n",
              "    .dataframe thead th {\n",
              "        text-align: right;\n",
              "    }\n",
              "</style>\n",
              "<table border=\"1\" class=\"dataframe\">\n",
              "  <thead>\n",
              "    <tr style=\"text-align: right;\">\n",
              "      <th></th>\n",
              "      <th>pais</th>\n",
              "      <th>eleicoes</th>\n",
              "      <th>democracia_liberal</th>\n",
              "      <th>participacao_democratica</th>\n",
              "      <th>democracia_deliberativa</th>\n",
              "      <th>igualdade</th>\n",
              "    </tr>\n",
              "  </thead>\n",
              "  <tbody>\n",
              "    <tr>\n",
              "      <th>174</th>\n",
              "      <td>North Korea</td>\n",
              "      <td>0.087</td>\n",
              "      <td>0.010</td>\n",
              "      <td>0.045</td>\n",
              "      <td>0.011</td>\n",
              "      <td>0.084</td>\n",
              "    </tr>\n",
              "    <tr>\n",
              "      <th>175</th>\n",
              "      <td>Afghanistan</td>\n",
              "      <td>0.082</td>\n",
              "      <td>0.028</td>\n",
              "      <td>0.019</td>\n",
              "      <td>0.025</td>\n",
              "      <td>0.019</td>\n",
              "    </tr>\n",
              "    <tr>\n",
              "      <th>176</th>\n",
              "      <td>China</td>\n",
              "      <td>0.075</td>\n",
              "      <td>0.040</td>\n",
              "      <td>0.042</td>\n",
              "      <td>0.079</td>\n",
              "      <td>0.088</td>\n",
              "    </tr>\n",
              "    <tr>\n",
              "      <th>177</th>\n",
              "      <td>Eritrea</td>\n",
              "      <td>0.073</td>\n",
              "      <td>0.012</td>\n",
              "      <td>0.011</td>\n",
              "      <td>0.033</td>\n",
              "      <td>0.124</td>\n",
              "    </tr>\n",
              "    <tr>\n",
              "      <th>178</th>\n",
              "      <td>Saudi Arabia</td>\n",
              "      <td>0.016</td>\n",
              "      <td>0.043</td>\n",
              "      <td>0.026</td>\n",
              "      <td>0.060</td>\n",
              "      <td>0.109</td>\n",
              "    </tr>\n",
              "  </tbody>\n",
              "</table>\n",
              "</div>\n",
              "    <div class=\"colab-df-buttons\">\n",
              "\n",
              "  <div class=\"colab-df-container\">\n",
              "    <button class=\"colab-df-convert\" onclick=\"convertToInteractive('df-07893e76-834d-4c6e-9ea7-b71f4a58a565')\"\n",
              "            title=\"Convert this dataframe to an interactive table.\"\n",
              "            style=\"display:none;\">\n",
              "\n",
              "  <svg xmlns=\"http://www.w3.org/2000/svg\" height=\"24px\" viewBox=\"0 -960 960 960\">\n",
              "    <path d=\"M120-120v-720h720v720H120Zm60-500h600v-160H180v160Zm220 220h160v-160H400v160Zm0 220h160v-160H400v160ZM180-400h160v-160H180v160Zm440 0h160v-160H620v160ZM180-180h160v-160H180v160Zm440 0h160v-160H620v160Z\"/>\n",
              "  </svg>\n",
              "    </button>\n",
              "\n",
              "  <style>\n",
              "    .colab-df-container {\n",
              "      display:flex;\n",
              "      gap: 12px;\n",
              "    }\n",
              "\n",
              "    .colab-df-convert {\n",
              "      background-color: #E8F0FE;\n",
              "      border: none;\n",
              "      border-radius: 50%;\n",
              "      cursor: pointer;\n",
              "      display: none;\n",
              "      fill: #1967D2;\n",
              "      height: 32px;\n",
              "      padding: 0 0 0 0;\n",
              "      width: 32px;\n",
              "    }\n",
              "\n",
              "    .colab-df-convert:hover {\n",
              "      background-color: #E2EBFA;\n",
              "      box-shadow: 0px 1px 2px rgba(60, 64, 67, 0.3), 0px 1px 3px 1px rgba(60, 64, 67, 0.15);\n",
              "      fill: #174EA6;\n",
              "    }\n",
              "\n",
              "    .colab-df-buttons div {\n",
              "      margin-bottom: 4px;\n",
              "    }\n",
              "\n",
              "    [theme=dark] .colab-df-convert {\n",
              "      background-color: #3B4455;\n",
              "      fill: #D2E3FC;\n",
              "    }\n",
              "\n",
              "    [theme=dark] .colab-df-convert:hover {\n",
              "      background-color: #434B5C;\n",
              "      box-shadow: 0px 1px 3px 1px rgba(0, 0, 0, 0.15);\n",
              "      filter: drop-shadow(0px 1px 2px rgba(0, 0, 0, 0.3));\n",
              "      fill: #FFFFFF;\n",
              "    }\n",
              "  </style>\n",
              "\n",
              "    <script>\n",
              "      const buttonEl =\n",
              "        document.querySelector('#df-07893e76-834d-4c6e-9ea7-b71f4a58a565 button.colab-df-convert');\n",
              "      buttonEl.style.display =\n",
              "        google.colab.kernel.accessAllowed ? 'block' : 'none';\n",
              "\n",
              "      async function convertToInteractive(key) {\n",
              "        const element = document.querySelector('#df-07893e76-834d-4c6e-9ea7-b71f4a58a565');\n",
              "        const dataTable =\n",
              "          await google.colab.kernel.invokeFunction('convertToInteractive',\n",
              "                                                    [key], {});\n",
              "        if (!dataTable) return;\n",
              "\n",
              "        const docLinkHtml = 'Like what you see? Visit the ' +\n",
              "          '<a target=\"_blank\" href=https://colab.research.google.com/notebooks/data_table.ipynb>data table notebook</a>'\n",
              "          + ' to learn more about interactive tables.';\n",
              "        element.innerHTML = '';\n",
              "        dataTable['output_type'] = 'display_data';\n",
              "        await google.colab.output.renderOutput(dataTable, element);\n",
              "        const docLink = document.createElement('div');\n",
              "        docLink.innerHTML = docLinkHtml;\n",
              "        element.appendChild(docLink);\n",
              "      }\n",
              "    </script>\n",
              "  </div>\n",
              "\n",
              "\n",
              "<div id=\"df-d6ba894d-6d95-4584-bf24-aec6536f9b42\">\n",
              "  <button class=\"colab-df-quickchart\" onclick=\"quickchart('df-d6ba894d-6d95-4584-bf24-aec6536f9b42')\"\n",
              "            title=\"Suggest charts\"\n",
              "            style=\"display:none;\">\n",
              "\n",
              "<svg xmlns=\"http://www.w3.org/2000/svg\" height=\"24px\"viewBox=\"0 0 24 24\"\n",
              "     width=\"24px\">\n",
              "    <g>\n",
              "        <path d=\"M19 3H5c-1.1 0-2 .9-2 2v14c0 1.1.9 2 2 2h14c1.1 0 2-.9 2-2V5c0-1.1-.9-2-2-2zM9 17H7v-7h2v7zm4 0h-2V7h2v10zm4 0h-2v-4h2v4z\"/>\n",
              "    </g>\n",
              "</svg>\n",
              "  </button>\n",
              "\n",
              "<style>\n",
              "  .colab-df-quickchart {\n",
              "      --bg-color: #E8F0FE;\n",
              "      --fill-color: #1967D2;\n",
              "      --hover-bg-color: #E2EBFA;\n",
              "      --hover-fill-color: #174EA6;\n",
              "      --disabled-fill-color: #AAA;\n",
              "      --disabled-bg-color: #DDD;\n",
              "  }\n",
              "\n",
              "  [theme=dark] .colab-df-quickchart {\n",
              "      --bg-color: #3B4455;\n",
              "      --fill-color: #D2E3FC;\n",
              "      --hover-bg-color: #434B5C;\n",
              "      --hover-fill-color: #FFFFFF;\n",
              "      --disabled-bg-color: #3B4455;\n",
              "      --disabled-fill-color: #666;\n",
              "  }\n",
              "\n",
              "  .colab-df-quickchart {\n",
              "    background-color: var(--bg-color);\n",
              "    border: none;\n",
              "    border-radius: 50%;\n",
              "    cursor: pointer;\n",
              "    display: none;\n",
              "    fill: var(--fill-color);\n",
              "    height: 32px;\n",
              "    padding: 0;\n",
              "    width: 32px;\n",
              "  }\n",
              "\n",
              "  .colab-df-quickchart:hover {\n",
              "    background-color: var(--hover-bg-color);\n",
              "    box-shadow: 0 1px 2px rgba(60, 64, 67, 0.3), 0 1px 3px 1px rgba(60, 64, 67, 0.15);\n",
              "    fill: var(--button-hover-fill-color);\n",
              "  }\n",
              "\n",
              "  .colab-df-quickchart-complete:disabled,\n",
              "  .colab-df-quickchart-complete:disabled:hover {\n",
              "    background-color: var(--disabled-bg-color);\n",
              "    fill: var(--disabled-fill-color);\n",
              "    box-shadow: none;\n",
              "  }\n",
              "\n",
              "  .colab-df-spinner {\n",
              "    border: 2px solid var(--fill-color);\n",
              "    border-color: transparent;\n",
              "    border-bottom-color: var(--fill-color);\n",
              "    animation:\n",
              "      spin 1s steps(1) infinite;\n",
              "  }\n",
              "\n",
              "  @keyframes spin {\n",
              "    0% {\n",
              "      border-color: transparent;\n",
              "      border-bottom-color: var(--fill-color);\n",
              "      border-left-color: var(--fill-color);\n",
              "    }\n",
              "    20% {\n",
              "      border-color: transparent;\n",
              "      border-left-color: var(--fill-color);\n",
              "      border-top-color: var(--fill-color);\n",
              "    }\n",
              "    30% {\n",
              "      border-color: transparent;\n",
              "      border-left-color: var(--fill-color);\n",
              "      border-top-color: var(--fill-color);\n",
              "      border-right-color: var(--fill-color);\n",
              "    }\n",
              "    40% {\n",
              "      border-color: transparent;\n",
              "      border-right-color: var(--fill-color);\n",
              "      border-top-color: var(--fill-color);\n",
              "    }\n",
              "    60% {\n",
              "      border-color: transparent;\n",
              "      border-right-color: var(--fill-color);\n",
              "    }\n",
              "    80% {\n",
              "      border-color: transparent;\n",
              "      border-right-color: var(--fill-color);\n",
              "      border-bottom-color: var(--fill-color);\n",
              "    }\n",
              "    90% {\n",
              "      border-color: transparent;\n",
              "      border-bottom-color: var(--fill-color);\n",
              "    }\n",
              "  }\n",
              "</style>\n",
              "\n",
              "  <script>\n",
              "    async function quickchart(key) {\n",
              "      const quickchartButtonEl =\n",
              "        document.querySelector('#' + key + ' button');\n",
              "      quickchartButtonEl.disabled = true;  // To prevent multiple clicks.\n",
              "      quickchartButtonEl.classList.add('colab-df-spinner');\n",
              "      try {\n",
              "        const charts = await google.colab.kernel.invokeFunction(\n",
              "            'suggestCharts', [key], {});\n",
              "      } catch (error) {\n",
              "        console.error('Error during call to suggestCharts:', error);\n",
              "      }\n",
              "      quickchartButtonEl.classList.remove('colab-df-spinner');\n",
              "      quickchartButtonEl.classList.add('colab-df-quickchart-complete');\n",
              "    }\n",
              "    (() => {\n",
              "      let quickchartButtonEl =\n",
              "        document.querySelector('#df-d6ba894d-6d95-4584-bf24-aec6536f9b42 button');\n",
              "      quickchartButtonEl.style.display =\n",
              "        google.colab.kernel.accessAllowed ? 'block' : 'none';\n",
              "    })();\n",
              "  </script>\n",
              "</div>\n",
              "    </div>\n",
              "  </div>\n"
            ]
          },
          "metadata": {},
          "execution_count": 9
        }
      ],
      "source": [
        "wiki_index.tail()"
      ]
    },
    {
      "cell_type": "code",
      "source": [
        "variaveis = list(wiki_index.columns)\n",
        "variaveis"
      ],
      "metadata": {
        "colab": {
          "base_uri": "https://localhost:8080/"
        },
        "id": "mzrVSc0Z8qAl",
        "outputId": "97bcc8c7-6b7e-4521-f6bd-b7741701ef89"
      },
      "id": "mzrVSc0Z8qAl",
      "execution_count": 11,
      "outputs": [
        {
          "output_type": "execute_result",
          "data": {
            "text/plain": [
              "['pais',\n",
              " 'eleicoes',\n",
              " 'democracia_liberal',\n",
              " 'participacao_democratica',\n",
              " 'democracia_deliberativa',\n",
              " 'igualdade']"
            ]
          },
          "metadata": {},
          "execution_count": 11
        }
      ]
    },
    {
      "cell_type": "code",
      "source": [
        "wiki_index[variaveis[1:]].sum()"
      ],
      "metadata": {
        "colab": {
          "base_uri": "https://localhost:8080/"
        },
        "id": "5SAJSLy881wy",
        "outputId": "0ee60266-13ee-40b0-80cf-821c753f525e"
      },
      "id": "5SAJSLy881wy",
      "execution_count": 13,
      "outputs": [
        {
          "output_type": "execute_result",
          "data": {
            "text/plain": [
              "eleicoes                    88.933\n",
              "democracia_liberal          69.056\n",
              "participacao_democratica    57.308\n",
              "democracia_deliberativa     68.803\n",
              "igualdade                   67.065\n",
              "dtype: float64"
            ]
          },
          "metadata": {},
          "execution_count": 13
        }
      ]
    },
    {
      "cell_type": "markdown",
      "source": [
        "Agora falta criar os indicadores para relacionar democracia com essa numeração. Estou avaliando criar a coluna indicadores que tera a conta: 5- soma da linha, quanto mais próximo de zero mais democrático será o país e quanto maior o número o sai da democracia e caminha para o autoritarismo."
      ],
      "metadata": {
        "id": "OTZdNt0L9Q1w"
      },
      "id": "OTZdNt0L9Q1w"
    },
    {
      "cell_type": "code",
      "source": [
        "wiki_index['indicador'] = wiki_index"
      ],
      "metadata": {
        "id": "Ecfa79JB-BST"
      },
      "id": "Ecfa79JB-BST",
      "execution_count": null,
      "outputs": []
    }
  ],
  "metadata": {
    "kernelspec": {
      "display_name": "Python 3 (ipykernel)",
      "language": "python",
      "name": "python3"
    },
    "language_info": {
      "codemirror_mode": {
        "name": "ipython",
        "version": 3
      },
      "file_extension": ".py",
      "mimetype": "text/x-python",
      "name": "python",
      "nbconvert_exporter": "python",
      "pygments_lexer": "ipython3",
      "version": "3.10.12"
    },
    "colab": {
      "provenance": [],
      "include_colab_link": true
    }
  },
  "nbformat": 4,
  "nbformat_minor": 5
}